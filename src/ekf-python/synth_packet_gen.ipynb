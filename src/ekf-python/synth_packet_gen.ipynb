{
 "cells": [
  {
   "cell_type": "markdown",
   "metadata": {},
   "source": [
    "### Interactive Testing of the Synthetic Packet Generator logic"
   ]
  },
  {
   "cell_type": "markdown",
   "metadata": {},
   "source": [
    "Creating a packet generator from the synthetic data matrix."
   ]
  },
  {
   "cell_type": "code",
   "execution_count": 1,
   "metadata": {},
   "outputs": [],
   "source": [
    "import numpy as np"
   ]
  },
  {
   "cell_type": "code",
   "execution_count": 2,
   "metadata": {},
   "outputs": [
    {
     "data": {
      "text/plain": [
       "NpzFile '../synth_data/synth_data.npz' with keys: ground_truth_clouds, camera_projections, camera_positions, camera_matrices"
      ]
     },
     "execution_count": 2,
     "metadata": {},
     "output_type": "execute_result"
    }
   ],
   "source": [
    "data = np.load('../synth_data/synth_data.npz')\n",
    "data"
   ]
  },
  {
   "cell_type": "code",
   "execution_count": 3,
   "metadata": {},
   "outputs": [
    {
     "data": {
      "text/plain": [
       "(100, 10, 10, 2)"
      ]
     },
     "execution_count": 3,
     "metadata": {},
     "output_type": "execute_result"
    }
   ],
   "source": [
    "observations = data['camera_projections']\n",
    "observations.shape"
   ]
  },
  {
   "cell_type": "code",
   "execution_count": 4,
   "metadata": {},
   "outputs": [],
   "source": [
    "# unroll observations into an array of dicts with keys 'timestep', 'point', 'camera', 'loc'\n",
    "# corresponding to axes 0, 1, 2, 3 of the observations array\n",
    "\n",
    "obs_list = []\n",
    "for timestep in range(observations.shape[0]):\n",
    "    for point_num in range(observations.shape[1]):\n",
    "        for camera_number in range(observations.shape[2]):\n",
    "                obs_list.append({\n",
    "                     'timestep': timestep, \n",
    "                     'point': point_num, \n",
    "                     'camera': camera_number, \n",
    "                     'x': observations[timestep, point_num, camera_number, 0],\n",
    "                     'y': observations[timestep, point_num, camera_number, 1]\n",
    "                })"
   ]
  },
  {
   "cell_type": "code",
   "execution_count": 5,
   "metadata": {},
   "outputs": [],
   "source": [
    "# generator object to iterate over the observations\n",
    "def packet_generator():\n",
    "    for obs in obs_list:\n",
    "        yield obs"
   ]
  }
 ],
 "metadata": {
  "kernelspec": {
   "display_name": "Python 3",
   "language": "python",
   "name": "python3"
  },
  "language_info": {
   "codemirror_mode": {
    "name": "ipython",
    "version": 3
   },
   "file_extension": ".py",
   "mimetype": "text/x-python",
   "name": "python",
   "nbconvert_exporter": "python",
   "pygments_lexer": "ipython3",
   "version": "3.12.1"
  }
 },
 "nbformat": 4,
 "nbformat_minor": 2
}
